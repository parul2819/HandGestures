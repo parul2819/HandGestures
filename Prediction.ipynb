{
 "cells": [
  {
   "cell_type": "code",
   "execution_count": 1,
   "id": "7a0d503d",
   "metadata": {},
   "outputs": [],
   "source": [
    "import cv2\n",
    "import time\n",
    "import numpy as np\n",
    "import operator"
   ]
  },
  {
   "cell_type": "code",
   "execution_count": 2,
   "id": "3f5b5785",
   "metadata": {},
   "outputs": [],
   "source": [
    "from tensorflow.keras.models import load_model"
   ]
  },
  {
   "cell_type": "code",
   "execution_count": 3,
   "id": "0f6bde68",
   "metadata": {},
   "outputs": [],
   "source": [
    "model = load_model('custom_model.h5')"
   ]
  },
  {
   "cell_type": "code",
   "execution_count": 4,
   "id": "4e447795",
   "metadata": {},
   "outputs": [
    {
     "name": "stdout",
     "output_type": "stream",
     "text": [
      "Model: \"sequential_1\"\n",
      "_________________________________________________________________\n",
      " Layer (type)                Output Shape              Param #   \n",
      "=================================================================\n",
      " conv2d_4 (Conv2D)           (None, 148, 148, 150)     4200      \n",
      "                                                                 \n",
      " activation_6 (Activation)   (None, 148, 148, 150)     0         \n",
      "                                                                 \n",
      " max_pooling2d_4 (MaxPooling  (None, 74, 74, 150)      0         \n",
      " 2D)                                                             \n",
      "                                                                 \n",
      " conv2d_5 (Conv2D)           (None, 72, 72, 200)       270200    \n",
      "                                                                 \n",
      " activation_7 (Activation)   (None, 72, 72, 200)       0         \n",
      "                                                                 \n",
      " max_pooling2d_5 (MaxPooling  (None, 36, 36, 200)      0         \n",
      " 2D)                                                             \n",
      "                                                                 \n",
      " conv2d_6 (Conv2D)           (None, 34, 34, 215)       387215    \n",
      "                                                                 \n",
      " activation_8 (Activation)   (None, 34, 34, 215)       0         \n",
      "                                                                 \n",
      " max_pooling2d_6 (MaxPooling  (None, 17, 17, 215)      0         \n",
      " 2D)                                                             \n",
      "                                                                 \n",
      " conv2d_7 (Conv2D)           (None, 15, 15, 190)       367840    \n",
      "                                                                 \n",
      " activation_9 (Activation)   (None, 15, 15, 190)       0         \n",
      "                                                                 \n",
      " max_pooling2d_7 (MaxPooling  (None, 7, 7, 190)        0         \n",
      " 2D)                                                             \n",
      "                                                                 \n",
      " flatten_1 (Flatten)         (None, 9310)              0         \n",
      "                                                                 \n",
      " dense_2 (Dense)             (None, 300)               2793300   \n",
      "                                                                 \n",
      " activation_10 (Activation)  (None, 300)               0         \n",
      "                                                                 \n",
      " dense_3 (Dense)             (None, 35)                10535     \n",
      "                                                                 \n",
      " activation_11 (Activation)  (None, 35)                0         \n",
      "                                                                 \n",
      "=================================================================\n",
      "Total params: 3,833,290\n",
      "Trainable params: 3,833,290\n",
      "Non-trainable params: 0\n",
      "_________________________________________________________________\n"
     ]
    }
   ],
   "source": [
    "model.summary()"
   ]
  },
  {
   "cell_type": "code",
   "execution_count": 5,
   "id": "485e8200",
   "metadata": {},
   "outputs": [],
   "source": [
    "categories = {0: 'ZERO', 1: 'ONE', 2: 'TWO', 3: 'THREE', 4: 'FOUR', 5: 'FIVE', 6:'SIX',\n",
    "             7:'SEVEN', 8: 'EIGHT', 9: 'NINE', 'A':'A', 'B':'B', 'C':'C', 'D':'D',\n",
    "             'E':'E', 'F':'F', 'G':'G', 'H':'H', 'I':'I', 'J':'J','K':'K', 'L':'L',\n",
    "             'M':'M','N':'N', 'O':'O','P':'P','Q':'Q','R':'R','S':'S','T':'T','U':'U',\n",
    "             'V':'V','W':'W','X':'X','Y':'Y', 'Z':'Z'}"
   ]
  },
  {
   "cell_type": "code",
   "execution_count": 6,
   "id": "6fe12c13",
   "metadata": {},
   "outputs": [],
   "source": [
    "#****************************************************************************\n",
    "#****************************************************************************\n",
    "#****************************************************************************\n",
    "#****************************************************************************\n",
    "\n",
    "cam = cv2.VideoCapture(0,cv2.CAP_DSHOW)\n",
    "\n",
    "\n",
    "\n",
    "while (True):\n",
    "    _, frame1 = cam.read()\n",
    "    \n",
    "      \n",
    "    \n",
    "    cv2.rectangle(frame1, (30,30),(500,450),(255, 0, 0), 3)\n",
    "    frame = frame1[33:501, 33:401]\n",
    "    frame = cv2.resize(frame, (150,150))\n",
    "    hsv = cv2.cvtColor(frame, cv2.COLOR_BGR2HSV)\n",
    "    \n",
    "    ret,thresh = cv2.threshold(frame, 120, 255,cv2.THRESH_BINARY)\n",
    "#     (roi, 120, 255, cv2.THRESH_BINARY)\n",
    "    result = model.predict(thresh.reshape(1, 150, 150, 3))\n",
    "    \n",
    "    prediction = {'ONE': result[0][0], \n",
    "                  'TWO': result[0][1],\n",
    "                  'THREE': result[0][2],\n",
    "                  'FOUR': result[0][3],\n",
    "                  'FIVE': result[0][4],\n",
    "                  'SIX': result[0][5],\n",
    "                  'SEVEN': result[0][6],\n",
    "                  'EIGHT': result[0][7],\n",
    "                  'NINE': result[0][8],\n",
    "                  'A': result[0][9],\n",
    "                  'B': result[0][10],\n",
    "                  'C': result[0][11],\n",
    "                  'D': result[0][12],\n",
    "                  'E': result[0][13],\n",
    "                  'F': result[0][14],\n",
    "                  'G': result[0][15],\n",
    "                  'H': result[0][16],\n",
    "                  'I': result[0][17],\n",
    "                  'J': result[0][18],\n",
    "                  'K': result[0][19],\n",
    "                  'L': result[0][20],\n",
    "                  'M': result[0][21],\n",
    "                  'N': result[0][22],\n",
    "                  'O': result[0][23],\n",
    "                  'P': result[0][24],\n",
    "                  'Q': result[0][25],\n",
    "                  'R': result[0][26],\n",
    "                  'S': result[0][27],\n",
    "                  'T': result[0][28],\n",
    "                  'U': result[0][29],\n",
    "                  'V': result[0][30],\n",
    "                  'W': result[0][31],\n",
    "                  'X': result[0][32],\n",
    "                  'Y': result[0][33],\n",
    "                  'Z': result[0][34],}\n",
    "# Sorting based on top prediction\n",
    "    prediction = sorted(prediction.items(), key=operator.itemgetter(1), reverse=True)\n",
    "    \n",
    "        \n",
    "    # Displaying the predictions\n",
    "    cv2.putText(frame1, prediction[0][0], (10, 120), cv2.FONT_HERSHEY_PLAIN, 1, (0,255,255), 1)    \n",
    "    cv2.imshow(\"Predicted output\", frame1)\n",
    "    \n",
    "    \n",
    "    \n",
    "    \n",
    "    \n",
    "    cv2.imshow(\"Original\", frame1)\n",
    "    cv2.imshow(\"Cropped\", frame)\n",
    "    cv2.imshow('Threshold', thresh)\n",
    "#     cv2.imshow(\"Mask\", mask)\n",
    "#     cv2.imshow(\"Filtered Mask\", filter)\n",
    "#     cv2.imshow(\"Final Mask\", mask1)\n",
    "#     cv2.imshow(\"Threshold\", thresh)\n",
    "\n",
    "\n",
    "    \n",
    "    \n",
    "    \n",
    "\n",
    "    key = cv2.waitKey(25) & 0xFF\n",
    "    if key == 27:\n",
    "        break\n",
    "cam.release()        \n",
    "cv2.destroyAllWindows()"
   ]
  },
  {
   "cell_type": "code",
   "execution_count": null,
   "id": "3f707482",
   "metadata": {},
   "outputs": [],
   "source": []
  },
  {
   "cell_type": "code",
   "execution_count": 2,
   "id": "881ad9e0",
   "metadata": {},
   "outputs": [
    {
     "data": {
      "text/plain": [
       "97"
      ]
     },
     "execution_count": 2,
     "metadata": {},
     "output_type": "execute_result"
    }
   ],
   "source": [
    "ord('a')"
   ]
  },
  {
   "cell_type": "code",
   "execution_count": 4,
   "id": "258e585b",
   "metadata": {},
   "outputs": [
    {
     "name": "stdout",
     "output_type": "stream",
     "text": [
      "a\n",
      "b\n",
      "c\n",
      "d\n",
      "e\n",
      "f\n",
      "g\n",
      "h\n",
      "i\n",
      "j\n",
      "k\n",
      "l\n",
      "m\n",
      "n\n",
      "o\n",
      "p\n",
      "q\n",
      "r\n",
      "s\n",
      "t\n",
      "u\n",
      "v\n",
      "w\n",
      "x\n",
      "y\n",
      "z\n"
     ]
    }
   ],
   "source": [
    "for i in range(ord('a'),ord('z')+1):\n",
    "    print(chr(i))"
   ]
  }
 ],
 "metadata": {
  "kernelspec": {
   "display_name": "Python 3 (ipykernel)",
   "language": "python",
   "name": "python3"
  },
  "language_info": {
   "codemirror_mode": {
    "name": "ipython",
    "version": 3
   },
   "file_extension": ".py",
   "mimetype": "text/x-python",
   "name": "python",
   "nbconvert_exporter": "python",
   "pygments_lexer": "ipython3",
   "version": "3.9.7"
  }
 },
 "nbformat": 4,
 "nbformat_minor": 5
}
